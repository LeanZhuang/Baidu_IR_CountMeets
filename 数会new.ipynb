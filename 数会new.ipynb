{
 "cells": [
  {
   "cell_type": "code",
   "execution_count": 1,
   "metadata": {},
   "outputs": [],
   "source": [
    "import pandas as pd\n",
    "import numpy as np\n",
    "import os\n"
   ]
  },
  {
   "cell_type": "code",
   "execution_count": 2,
   "metadata": {},
   "outputs": [],
   "source": [
    "# 定义全局变量\n",
    "folder_path = './底稿'\n",
    "new = '0630'"
   ]
  },
  {
   "cell_type": "code",
   "execution_count": 3,
   "metadata": {},
   "outputs": [
    {
     "name": "stderr",
     "output_type": "stream",
     "text": [
      "/var/folders/21/r5tywv_91vz_8s1tgrs4qpjm0000gn/T/ipykernel_59441/2405849470.py:21: FutureWarning: The frame.append method is deprecated and will be removed from pandas in a future version. Use pandas.concat instead.\n",
      "  df_total = df_total.append(df, ignore_index=True)\n",
      "/var/folders/21/r5tywv_91vz_8s1tgrs4qpjm0000gn/T/ipykernel_59441/2405849470.py:21: FutureWarning: The frame.append method is deprecated and will be removed from pandas in a future version. Use pandas.concat instead.\n",
      "  df_total = df_total.append(df, ignore_index=True)\n"
     ]
    }
   ],
   "source": [
    "df_total = pd.DataFrame()\n",
    "\n",
    "# 获取文件夹中的所有文件名\n",
    "file_names = os.listdir(folder_path)\n",
    "\n",
    "# 遍历文件夹中的每个文件\n",
    "for file_name in file_names:\n",
    "    # 检查文件名是否以'.xlsx'或'.xls'结尾\n",
    "    if file_name.endswith('.xlsx') or file_name.endswith('.xls'):\n",
    "        # 构建文件路径\n",
    "        file_path = os.path.join(folder_path, file_name)\n",
    "        \n",
    "        # 读取Excel文件为DataFrame\n",
    "        df = pd.read_excel(file_path)\n",
    "        df.dropna(how='all', inplace=True)\n",
    "        \n",
    "        if file_name == new + '.xlsx':\n",
    "            df['if_new'] = 1\n",
    "        \n",
    "        if file_name != 'toplist.xlsx':\n",
    "            df_total = df_total.append(df, ignore_index=True)\n",
    "        else:\n",
    "            toplist = df\n",
    "            toplist.dropna(how='all', inplace=True)\n"
   ]
  },
  {
   "cell_type": "code",
   "execution_count": 4,
   "metadata": {},
   "outputs": [],
   "source": [
    "# 本周\n",
    "df_this_week = df_total[df_total['if_new'] == 1]  # 本周数据\n",
    "\n",
    "week_in = df_this_week['机构'].nunique()  # 本周机构数\n",
    "week_people = df_this_week['人名'].nunique()  # 本周人数\n",
    "\n",
    "# 本周1*1\n",
    "df_this_week_1on1 = df_this_week[df_this_week['group'].isna()]\n",
    "one_on_one_in = df_this_week_1on1['机构'].nunique()  # 本周1*1机构数\n",
    "one_on_one_people = df_this_week_1on1['人名'].nunique()  # 本周1*1人数\n",
    "\n",
    "# brokers\n",
    "brokers_list = df_this_week['group'].unique().tolist()\n",
    "count_brokers = len(brokers_list)"
   ]
  },
  {
   "cell_type": "code",
   "execution_count": 5,
   "metadata": {},
   "outputs": [],
   "source": [
    "# 自财报第二天开始\n",
    "total_in = df_total['机构'].nunique()  # 总机构数\n",
    "total_people = df_total['人名'].nunique()  # 总人数\n",
    "\n",
    "top10_list = toplist[toplist['rate'] <= 10]['Institution'].unique().tolist()\n",
    "top30_list = toplist[toplist['rate'] <= 30]['Institution'].unique().tolist()\n",
    "\n",
    "# Top10\n",
    "df_top10 = df_total[df_total['机构'].isin(top10_list)]\n",
    "count_top10 = df_top10['机构'].nunique()\n",
    "count_top10_list = df_top10['机构'].tolist()\n",
    "\n",
    "# Top30\n",
    "df_top30 = df_total[df_total['机构'].isin(top30_list)]\n",
    "count_top30 = df_top30['机构'].nunique()\n"
   ]
  },
  {
   "cell_type": "code",
   "execution_count": 6,
   "metadata": {},
   "outputs": [],
   "source": [
    "# 潜在买家\n",
    "df_total = df_total.merge(toplist, left_on='机构', right_on='Institution', how='left')\n",
    "df_potential = df_total[(df_total['ADS'] <= 100000)]\n",
    "count_potential = df_potential['机构'].nunique()\n",
    "potential_list = df_potential['机构'].unique().tolist()[0:5]"
   ]
  },
  {
   "cell_type": "code",
   "execution_count": 7,
   "metadata": {},
   "outputs": [],
   "source": [
    "result1 = f'* 自6月21日至{new}，本周合计与{week_in}个机构{week_people}人沟通，包括：1*1合计{one_on_one_in}个机构（覆盖{one_on_one_people}人），{count_brokers}家brokers（包括：{brokers_list}）举办的NDR或行业会议。'\n",
    "\n",
    "\n",
    "result2 = f'* 自财报第二天（5月17日），我们已沟通{total_in}家机构{total_people}人，包括Top10中的{count_top10}个({count_top10_list}); 以及另外{count_top30}个Top 30大股东。潜在买家{count_potential}个，包括：{potential_list}。潜在买家定义：持股量少于10万ADR。'"
   ]
  },
  {
   "cell_type": "code",
   "execution_count": 8,
   "metadata": {},
   "outputs": [
    {
     "name": "stdout",
     "output_type": "stream",
     "text": [
      "* 自6月21日至0630，本周合计与118个机构73人沟通，包括：1*1合计9个机构（覆盖16人），4家brokers（包括：[nan, 'daiwa', 'BofA', 'TH']）举办的NDR或行业会议。 \n",
      " * 自财报第二天（5月17日），我们已沟通272家机构195人，包括Top10中的1个(['GIC Asset Management Pte., LTD']); 以及另外4个Top 30大股东。潜在买家226个，包括：['Hel Ved Capital Management, LTD', 'AmFunds Management Bhd', 'Asset Management One International Ltd.', 'BEA Union Investment Management, LTD', 'CPPIB Asia, Inc.']。潜在买家定义：持股量少于10万ADR。\n"
     ]
    }
   ],
   "source": [
    "print(result1, '\\n', result2)"
   ]
  }
 ],
 "metadata": {
  "kernelspec": {
   "display_name": "myenv",
   "language": "python",
   "name": "python3"
  },
  "language_info": {
   "codemirror_mode": {
    "name": "ipython",
    "version": 3
   },
   "file_extension": ".py",
   "mimetype": "text/x-python",
   "name": "python",
   "nbconvert_exporter": "python",
   "pygments_lexer": "ipython3",
   "version": "3.11.3"
  },
  "orig_nbformat": 4
 },
 "nbformat": 4,
 "nbformat_minor": 2
}
